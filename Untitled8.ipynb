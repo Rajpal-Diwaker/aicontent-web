{
 "cells": [
  {
   "cell_type": "code",
   "execution_count": 2,
   "metadata": {},
   "outputs": [
    {
     "name": "stdout",
     "output_type": "stream",
     "text": [
      "{'near', 'unspoilt', 'undecomposed', 'expert', 'dependable', 'dear', 'right', 'effective', 'in_force', 'full', 'serious', 'safe', 'sound', 'estimable', 'commodity', 'beneficial', 'skilful', 'salutary', 'unspoiled', 'just', 'goodness', 'trade_good', 'respectable', 'adept', 'good', 'secure', 'honorable', 'upright', 'proficient', 'honest', 'practiced', 'in_effect', 'skillful', 'thoroughly', 'ripe', 'soundly', 'well'}\n"
     ]
    }
   ],
   "source": [
    "import nltk \n",
    "from nltk.corpus import wordnet \n",
    "synonyms = [] \n",
    "antonyms = [] \n",
    "  \n",
    "for syn in wordnet.synsets(\"good\"): \n",
    "    for l in syn.lemmas(): \n",
    "        synonyms.append(l.name()) \n",
    "  \n",
    "print(set(synonyms)) "
   ]
  },
  {
   "cell_type": "code",
   "execution_count": 16,
   "metadata": {},
   "outputs": [
    {
     "name": "stdout",
     "output_type": "stream",
     "text": [
      "['arouse', 'gender', 'sexuality', 'turn_on', 'sexual_practice', 'sexual_activity', 'sex_activity', 'excite', 'sex', 'wind_up', 'sexual_urge']\n"
     ]
    }
   ],
   "source": [
    "import nltk \n",
    "from nltk.corpus import wordnet \n",
    "synonyms = [] \n",
    "        \n",
    "for ss in wordnet.synsets('corona'):\n",
    "        for syn in ss.lemma_names():\n",
    "            synonyms.append(syn)\n",
    "synonyms = list(set(synonyms))  \n",
    "print(synonyms)"
   ]
  },
  {
   "cell_type": "code",
   "execution_count": null,
   "metadata": {},
   "outputs": [],
   "source": []
  }
 ],
 "metadata": {
  "kernelspec": {
   "display_name": "Python 3",
   "language": "python",
   "name": "python3"
  },
  "language_info": {
   "codemirror_mode": {
    "name": "ipython",
    "version": 3
   },
   "file_extension": ".py",
   "mimetype": "text/x-python",
   "name": "python",
   "nbconvert_exporter": "python",
   "pygments_lexer": "ipython3",
   "version": "3.7.4"
  }
 },
 "nbformat": 4,
 "nbformat_minor": 2
}

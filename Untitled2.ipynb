{
 "cells": [
  {
   "cell_type": "code",
   "execution_count": 8,
   "metadata": {},
   "outputs": [
    {
     "name": "stderr",
     "output_type": "stream",
     "text": [
      "100%|██████████| 10000000/10000000 [00:33<00:00, 294910.90it/s]\n"
     ]
    }
   ],
   "source": [
    "# from numpy import genfromtxt\n",
    "# import numpy as np\n",
    "# mydata = genfromtxt('data-model/co-occurency-matrix.csv', delimiter=',')\n",
    "\n",
    "# adjacency = mydata[1:,1:]\n",
    "\n",
    "# import matplotlib.pyplot as plt\n",
    "# import networkx as nx\n",
    "\n",
    "# def show_graph_with_labels(adjacency_matrix):\n",
    "#     rows, cols = np.where(adjacency_matrix == 1)\n",
    "#     edges = zip(rows.tolist(), cols.tolist())\n",
    "#     gr = nx.Graph()\n",
    "#     gr.add_edges_from(edges)\n",
    "#     nx.draw(gr, node_size=500,  with_labels=True)\n",
    "#     plt.show()\n",
    "\n",
    "# show_graph_with_labels(adjacency)\n",
    "\n",
    "from numpy import genfromtxt\n",
    "import numpy as np\n",
    "import networkx as nx\n",
    "import matplotlib.pyplot as plt\n",
    "\n",
    "mydata = genfromtxt('data-model/co-occurency-matrix.csv', delimiter=',')\n",
    "\n",
    "adjacency = mydata[1:,1:]\n",
    "\n",
    "A=np.matrix(mydata)\n",
    "G=nx.from_numpy_matrix(A)\n",
    "from tqdm import tqdm\n",
    "for i in tqdm(range(10000000)):\n",
    "    plt.show()"
   ]
  },
  {
   "cell_type": "code",
   "execution_count": null,
   "metadata": {},
   "outputs": [],
   "source": []
  }
 ],
 "metadata": {
  "kernelspec": {
   "display_name": "Python 3",
   "language": "python",
   "name": "python3"
  },
  "language_info": {
   "codemirror_mode": {
    "name": "ipython",
    "version": 3
   },
   "file_extension": ".py",
   "mimetype": "text/x-python",
   "name": "python",
   "nbconvert_exporter": "python",
   "pygments_lexer": "ipython3",
   "version": "3.7.4"
  }
 },
 "nbformat": 4,
 "nbformat_minor": 2
}

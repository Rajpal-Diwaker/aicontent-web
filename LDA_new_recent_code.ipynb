{
 "cells": [
  {
   "cell_type": "code",
   "execution_count": 18,
   "metadata": {},
   "outputs": [],
   "source": [
    "import pandas as pd"
   ]
  },
  {
   "cell_type": "code",
   "execution_count": 19,
   "metadata": {},
   "outputs": [],
   "source": [
    "import pickle\n",
    "\n",
    "pickle_in = open(\"data-model/scrapped_df_other.pkl\",\"rb\") \n",
    "data = pickle.load(pickle_in)"
   ]
  },
  {
   "cell_type": "code",
   "execution_count": 20,
   "metadata": {},
   "outputs": [
    {
     "data": {
      "text/plain": [
       "(841, 7)"
      ]
     },
     "execution_count": 20,
     "metadata": {},
     "output_type": "execute_result"
    }
   ],
   "source": [
    "data.shape"
   ]
  },
  {
   "cell_type": "code",
   "execution_count": 21,
   "metadata": {},
   "outputs": [],
   "source": [
    "data = data.dropna().reset_index(drop=True)"
   ]
  },
  {
   "cell_type": "code",
   "execution_count": 22,
   "metadata": {},
   "outputs": [
    {
     "data": {
      "text/plain": [
       "(839, 7)"
      ]
     },
     "execution_count": 22,
     "metadata": {},
     "output_type": "execute_result"
    }
   ],
   "source": [
    "data.shape"
   ]
  },
  {
   "cell_type": "code",
   "execution_count": 23,
   "metadata": {},
   "outputs": [],
   "source": [
    "from nltk.tokenize import sent_tokenize"
   ]
  },
  {
   "cell_type": "code",
   "execution_count": 24,
   "metadata": {},
   "outputs": [
    {
     "data": {
      "text/plain": [
       "'p class  published         Updated       span class  timestamp         January                         span    p  p A bushfire wiped out Al Bacons town and left him with serious burns two months ago  but he says it may as well have happened yesterday.  p  p Time hasnt changed much in Wytaliba  the north eastern NSW town where a  a href   news            nsw bushfires inside small town wiped out wytaliba           target   self  title    bushfire in November killed two people and destroyed dozens of homes and buildings.  a   p  p Mr Bacon  who was uninsured  lost everything except some baby photos and clothes  and said he was  disgusted  by the small amount of relief funds the family had received.  p  p So far  he said he and his partner and their son had been paid one grant from the State Government relief fund of       .  p  p  Its been as much of a slap in the face as the fire was   the young father said.  p  p    p  p Mr Bacon is among those who have lost everything in recent bushfires who say financial assistance is welcomed  but its too little and arriving too late.  p  p Wytaliba Rural Fire Service firefighter Joe Borgia  is struggling to find the funds to rebuild his home.  p  p He was one of three firefighters captured on video driving through the terrifying firestorm in Wytaliba  an event which left him unable to sleep for weeks.  p  p    p  p Mr Borgia has received the        Federal Government disaster recovery payment but has been waiting almost a month for funds from the Red Cross and NSW Government.  p  p  One thousand dollars isnt much when you consider how much has been donated to the RFS   he said.  p  p In just days he and his daughter must vacate their temporary accommodation in Glen Innes and return to live in Wytaliba.  p  p But he is at a loss to find the         hell need to set up a kit home on his property.  p  p  Im starting to feel it  I had a bit of money saved up but Ive gone through that   Mr Borgia said.  p  p Mr Borgia said he was relieved when another Wytaliba resident gave him      as thanks for saving his house as that helped with his day to day expenses.  p  p  The thing is I just have to keep chasing the  disaster relief grants   as I need it fast.   p  p    p  p Mr Bacons family have also applied for financial assistance from St Vincent de Paul  from which they are awaiting a response.  p  p He said they were not aware of the Federal Governments one off disaster recovery payments of        per adult and      per child   a href   news            scott morrison bushfire recovery bill           target   self  title    announced weeks after the Wytaliba fire   a  but would apply for it now.  p  p The Federal Government is also offering lost income allowances  and has  a href   news            nsw government commits one billion to fires recovery           target   self  title    committed    billion to a new bushfire recovery agency  a    but thats separate to individual disaster relief payments.  p  p Elsewhere  the Red Cross is providing        emergency grants and the big four banks all have relief packages available to their customers.  p  p    p  p Mr Bacon said communication could have been better about what entitlements were available and there needed to be more support for people after they received the funds.  p  p  The other issue is if you get the money  its just OK  you deal with everything now   he said.  p  p  Theres no follow up  youre on your own   we need experts to evaluate the land and give us guidance about exactly how to rebuild  so theres no threat of erosion for example.   p  p Mr Bacon said wreckage still hadnt been cleared and asbestos contaminated material remained  despite the NSW Governments commitment in November of     million for bushfire cleanup.  p  p Not only did Mr Bacon suffer horrific burns  was also hit by a car as he tried to reach neighbour  a href   news            nsw fire second death confirmed           target   self  title    George Nole  who died in the fire.  a   p  p After weeks in a Sydney hospital  he has largely recovered  but cant yet return to work as a concreter as his skin is unable to handle sunlight.  p  p Shortly after those bushfires ravaged communities in the north of the state  Premier Gladys Berejiklian vowed to  provide assistance as quickly as possible .  p  p    p  p Mr Bacon and his partner Storm Sparks claim they had to wait for almost a month to get any money.  p  p But it was the amount that shocked him the most.  p  p  We got          I was disgusted to tell you the truth   Mr Bacon said.  p  p  What does that get you in the real world    p  p Mr Bacon said most of the money was spent on a      bill for the ambulance after he was hit by the car  and the family had to pay two weeks rent up front at their temporary accommodation in Glen Innes.  p  p A spokesperson for the NSW Office of Emergency Management  OEM  said the disaster relief grants were designed to provide a basic level of assistance.  p  p To determine the amount paid to bushfire victims  the Government takes into account the applicants weekly wage or Centrelink Benefit  their minimum weekly rent or mortgage payment and if they have dependants.  p  p  OEM are receiving many requests for Disaster Relief Grants from across the state and it is a priority to process these requests as soon as possible.   p  p    p  p South Coast MP Andrew Constance has criticised the distribution of bushfire relief funding  saying it is simply taking too long to flow through to devastated communities.   p  p  Im only echoing what people are saying who are desperate   he said.  p  p  Weve got thousands of displaced people  farmers who cant get stock fed  people sleeping on lounges  tents  out in the bush.  p  p  Weve got a real humanitarian crisis.   p  p Bega Mayor Kristie McBain agreed the process had left a lot of residents feeling frustrated.  p  p  Some people just want to get on and help themselves and that becomes difficult when theres always a form to fill out  a process to go through  a number to ring  a meeting to attend   so I think that definitely adds to the frustration.   p  p But the Federal Minister for Government Services  Stuart Robert said Mr Constances criticism was completely wrong and the Government had delivered almost     million in aid to people across the state.  p  p  I understand his position and some of his frustrations but he couldnt be more wrong.  p  p Mr Robert said payments had been made for        claims. br     p  p  They got their phone answered in seven seconds  they got their claim done in    minutes and most of them got paid in    minutes.  p  p  The speed at which were operating now is unseen in a disaster in this country.   p  p class  topics    strong Topics   strong   a href   news topic disasters and accidents  disasters and accidents  a         a href   news topic fires  fires  a         a href   news topic bushfire  bushfire  a         a href   news topic states and territories  states and territories  a         a href   news topic federal government  federal government  a         a href   news topic glen innes       glen innes       a    p  p class  published       First posted       span class  timestamp         January                         span    p  p   a class  button  href   news contact feedback.html id            span Contact Paige Cockburn  span    a    p  p   a class  button  href   news nsw     span  strong    More   strong  stories from New South Wales  span   a    p  p If you have inside knowledge of a topic in the news   a href   news contact tip off   target   self  title    contact the ABC  a .  p  p  a href  https   www.abc.net.au news about backstory   target   self  title    ABC teams share the story behind the story and insights into the making of digital  TV and radio content.  a   p  p  a href  https   about.abc.net.au how the abc is run what guides us abc editorial standards   target   self  title    Read about our editorial guiding principles and the standards ABC journalists and content makers follow.  a   p  p  a href  https   about.abc.net.au how the abc is run what guides us abc editorial standards   target   self  title    Learn more  a   p  p class  title           by  a href   news inga ting          target   self  title    Inga Ting  a    a href   news nathanael scott          target   self  title    Nathanael Scott  a  and  a href   news alex palmer          target   self  title    Alex Palmer  a   p  p An ABC News investigation uncovers  for the first time  the outcome of nearly every sexual assault reported to police in Australia between      and     .  p  p class  title           By  a href   news nadia daly          target   self  title    Nadia Daly  a   p  p A whistleblower who worked for Boeing for almost    years says he would not fly on the plane he helped build due to serious safety concerns.  p  p class  title           Exclusive by  a href   news bang xiao          target   self  title    Bang Xiao  a   p  p The ABC has confirmed at least     Australian children are currently trapped in Wuhan  which is under lockdown as the death toll from the coronavirus moves above    .  p  p class  title           By  a href   news miyuki jokiranta           target   self  title    Miyuki Jokiranta  a  for  a href   radionational programs the history listen   target   self  title    The History Listen  a   p  p A gifted naturalist  photographer and mountain guide  Alice Manfield is one the environment movements little known early heroes.  p  p   small This service may include material from Agence France Presse  AFP   APTN  Reuters  AAP  CNN and the BBC World Service which is copyright and cannot be reproduced.  small    p  p   small AEDT   Australian Eastern Daylight Savings Time which is    hours ahead of GMT  Greenwich Mean Time   small    p'"
      ]
     },
     "execution_count": 24,
     "metadata": {},
     "output_type": "execute_result"
    }
   ],
   "source": [
    "data.head(3).description[0]"
   ]
  },
  {
   "cell_type": "code",
   "execution_count": 27,
   "metadata": {},
   "outputs": [
    {
     "ename": "AttributeError",
     "evalue": "'DataFrame' object has no attribute 'articles'",
     "output_type": "error",
     "traceback": [
      "\u001b[0;31m---------------------------------------------------------------------------\u001b[0m",
      "\u001b[0;31mAttributeError\u001b[0m                            Traceback (most recent call last)",
      "\u001b[0;32m<ipython-input-27-6362df9871af>\u001b[0m in \u001b[0;36m<module>\u001b[0;34m\u001b[0m\n\u001b[0;32m----> 1\u001b[0;31m \u001b[0mdata\u001b[0m\u001b[0;34m[\u001b[0m\u001b[0;34m'sentences'\u001b[0m\u001b[0;34m]\u001b[0m \u001b[0;34m=\u001b[0m \u001b[0mdata\u001b[0m\u001b[0;34m.\u001b[0m\u001b[0marticles\u001b[0m\u001b[0;34m.\u001b[0m\u001b[0mprogress_map\u001b[0m\u001b[0;34m(\u001b[0m\u001b[0msent_tokenize\u001b[0m\u001b[0;34m)\u001b[0m\u001b[0;34m\u001b[0m\u001b[0;34m\u001b[0m\u001b[0m\n\u001b[0m\u001b[1;32m      2\u001b[0m \u001b[0mdata\u001b[0m\u001b[0;34m[\u001b[0m\u001b[0;34m'sentences'\u001b[0m\u001b[0;34m]\u001b[0m\u001b[0;34m.\u001b[0m\u001b[0mhead\u001b[0m\u001b[0;34m(\u001b[0m\u001b[0;36m1\u001b[0m\u001b[0;34m)\u001b[0m\u001b[0;34m.\u001b[0m\u001b[0mtolist\u001b[0m\u001b[0;34m(\u001b[0m\u001b[0;34m)\u001b[0m\u001b[0;34m[\u001b[0m\u001b[0;36m0\u001b[0m\u001b[0;34m]\u001b[0m\u001b[0;34m[\u001b[0m\u001b[0;34m:\u001b[0m\u001b[0;36m3\u001b[0m\u001b[0;34m]\u001b[0m\u001b[0;34m\u001b[0m\u001b[0;34m\u001b[0m\u001b[0m\n",
      "\u001b[0;32m~/anaconda3/lib/python3.7/site-packages/pandas/core/generic.py\u001b[0m in \u001b[0;36m__getattr__\u001b[0;34m(self, name)\u001b[0m\n\u001b[1;32m   5177\u001b[0m             \u001b[0;32mif\u001b[0m \u001b[0mself\u001b[0m\u001b[0;34m.\u001b[0m\u001b[0m_info_axis\u001b[0m\u001b[0;34m.\u001b[0m\u001b[0m_can_hold_identifiers_and_holds_name\u001b[0m\u001b[0;34m(\u001b[0m\u001b[0mname\u001b[0m\u001b[0;34m)\u001b[0m\u001b[0;34m:\u001b[0m\u001b[0;34m\u001b[0m\u001b[0;34m\u001b[0m\u001b[0m\n\u001b[1;32m   5178\u001b[0m                 \u001b[0;32mreturn\u001b[0m \u001b[0mself\u001b[0m\u001b[0;34m[\u001b[0m\u001b[0mname\u001b[0m\u001b[0;34m]\u001b[0m\u001b[0;34m\u001b[0m\u001b[0;34m\u001b[0m\u001b[0m\n\u001b[0;32m-> 5179\u001b[0;31m             \u001b[0;32mreturn\u001b[0m \u001b[0mobject\u001b[0m\u001b[0;34m.\u001b[0m\u001b[0m__getattribute__\u001b[0m\u001b[0;34m(\u001b[0m\u001b[0mself\u001b[0m\u001b[0;34m,\u001b[0m \u001b[0mname\u001b[0m\u001b[0;34m)\u001b[0m\u001b[0;34m\u001b[0m\u001b[0;34m\u001b[0m\u001b[0m\n\u001b[0m\u001b[1;32m   5180\u001b[0m \u001b[0;34m\u001b[0m\u001b[0m\n\u001b[1;32m   5181\u001b[0m     \u001b[0;32mdef\u001b[0m \u001b[0m__setattr__\u001b[0m\u001b[0;34m(\u001b[0m\u001b[0mself\u001b[0m\u001b[0;34m,\u001b[0m \u001b[0mname\u001b[0m\u001b[0;34m,\u001b[0m \u001b[0mvalue\u001b[0m\u001b[0;34m)\u001b[0m\u001b[0;34m:\u001b[0m\u001b[0;34m\u001b[0m\u001b[0;34m\u001b[0m\u001b[0m\n",
      "\u001b[0;31mAttributeError\u001b[0m: 'DataFrame' object has no attribute 'articles'"
     ]
    }
   ],
   "source": [
    "data['sentences'] = data.articles.progress_map(sent_tokenize)\n",
    "data['sentences'].head(1).tolist()[0][:3]"
   ]
  },
  {
   "cell_type": "code",
   "execution_count": null,
   "metadata": {},
   "outputs": [],
   "source": []
  }
 ],
 "metadata": {
  "kernelspec": {
   "display_name": "Python 3",
   "language": "python",
   "name": "python3"
  },
  "language_info": {
   "codemirror_mode": {
    "name": "ipython",
    "version": 3
   },
   "file_extension": ".py",
   "mimetype": "text/x-python",
   "name": "python",
   "nbconvert_exporter": "python",
   "pygments_lexer": "ipython3",
   "version": "3.7.4"
  }
 },
 "nbformat": 4,
 "nbformat_minor": 2
}

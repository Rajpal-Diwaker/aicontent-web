{
 "cells": [
  {
   "cell_type": "code",
   "execution_count": 6,
   "metadata": {},
   "outputs": [
    {
     "name": "stdout",
     "output_type": "stream",
     "text": [
      "keywords                         caroline,kelly,cnnupdated,pm,et\n",
      "title          Trump to attend anti-abortion March for Life i...\n",
      "url            http://us.cnn.com/2020/01/22/politics/trump-ma...\n",
      "description    By Caroline Kelly  CNNUpdated      PM ET  Wed ...\n",
      "pubdate                                     2020-01-23T02:31:45Z\n",
      "urlToImage     https://cdn.cnn.com/cnnnext/dam/assets/2001221...\n",
      "category                                                 general\n",
      "Name: 359, dtype: object\n",
      "keywords                           jill,martin,cnnupdated,et,tue\n",
      "title          Super Bowl Opening Night: Chiefs and 49ers rea...\n",
      "url            http://us.cnn.com/2020/01/28/us/kobe-bryant-re...\n",
      "description    By Jill Martin  CNNUpdated       AM ET  Tue Ja...\n",
      "pubdate                                     2020-01-28T05:14:58Z\n",
      "urlToImage     https://cdn.cnn.com/cnnnext/dam/assets/2001272...\n",
      "category                                                 general\n",
      "Name: 656, dtype: object\n"
     ]
    }
   ],
   "source": [
    "import pickle\n",
    "\n",
    "pickle_in = open(\"data-model/scrapped_df_other.pkl\",\"rb\") \n",
    "data = pickle.load(pickle_in) \n",
    "\n",
    "data = data.drop_duplicates('description')\n",
    "data = data[~data['description'].isnull()]\n",
    "df = data[(data.description.map(len) > 140) & (data.description.map(len) <= 300)]\n",
    "\n",
    "for index, row in df.iterrows():\n",
    "    WITH split(tolower(row['description']), \" \") AS text\n",
    "    UNWIND range(0,size(text)-2) AS i\n",
    "    MERGE (w1: Word {name: text[i]})\n",
    "        ON CREATE SET w1.count = 1 ON MATCH SET w1.count = w1.count + 1\n",
    "    MERGE (w2: Word {name: text[i+1]})\n",
    "        ON CREATE SET w2.count = 1 ON MATCH SET w2.count = w2.count + 1\n",
    "    MERGE (w1)-[:NEXT]->(w2)\n",
    "        ON CREATE SET r.count = 1\n",
    "        ON MATCH SET r.count = r.count + 1;\n",
    "\n",
    "# from py2neo import Graph, Node, Relationship\n",
    "# tx = Graph(password=\"Techugo@1234\")\n",
    "# for index, row in df.iterrows():\n",
    "#     tx.evaluate('''\n",
    "#       MATCH (a:Title {property:$title})\n",
    "#       MERGE (a)-[r:R_TYPE]->(b:Description {property:$description})\n",
    "#     ''', parameters = {'title': row['title'], 'description': row['description']})\n"
   ]
  },
  {
   "cell_type": "code",
   "execution_count": null,
   "metadata": {},
   "outputs": [],
   "source": []
  }
 ],
 "metadata": {
  "kernelspec": {
   "display_name": "Python 3",
   "language": "python",
   "name": "python3"
  },
  "language_info": {
   "codemirror_mode": {
    "name": "ipython",
    "version": 3
   },
   "file_extension": ".py",
   "mimetype": "text/x-python",
   "name": "python",
   "nbconvert_exporter": "python",
   "pygments_lexer": "ipython3",
   "version": "3.7.4"
  }
 },
 "nbformat": 4,
 "nbformat_minor": 2
}

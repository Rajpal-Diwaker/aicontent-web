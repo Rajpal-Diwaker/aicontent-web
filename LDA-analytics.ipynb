{
 "cells": [
  {
   "cell_type": "code",
   "execution_count": 1,
   "metadata": {},
   "outputs": [],
   "source": [
    "import nltk\n",
    "from nltk import FreqDist\n",
    "# nltk.download('stopwords')\n",
    "\n",
    "import pandas as pd\n",
    "pd.set_option(\"display.max_colwidth\", 200)\n",
    "import numpy as np\n",
    "import re\n",
    "import spacy\n",
    "\n",
    "import gensim\n",
    "from gensim import corpora\n",
    "\n",
    "# libraries for visualization\n",
    "import pyLDAvis\n",
    "import pyLDAvis.gensim\n",
    "import matplotlib.pyplot as plt\n",
    "import seaborn as sns\n",
    "%matplotlib inline"
   ]
  },
  {
   "cell_type": "code",
   "execution_count": 2,
   "metadata": {},
   "outputs": [
    {
     "data": {
      "text/html": [
       "<div>\n",
       "<style scoped>\n",
       "    .dataframe tbody tr th:only-of-type {\n",
       "        vertical-align: middle;\n",
       "    }\n",
       "\n",
       "    .dataframe tbody tr th {\n",
       "        vertical-align: top;\n",
       "    }\n",
       "\n",
       "    .dataframe thead th {\n",
       "        text-align: right;\n",
       "    }\n",
       "</style>\n",
       "<table border=\"1\" class=\"dataframe\">\n",
       "  <thead>\n",
       "    <tr style=\"text-align: right;\">\n",
       "      <th></th>\n",
       "      <th>keywords</th>\n",
       "      <th>title</th>\n",
       "      <th>url</th>\n",
       "      <th>description</th>\n",
       "      <th>pubdate</th>\n",
       "      <th>urlToImage</th>\n",
       "      <th>category</th>\n",
       "    </tr>\n",
       "  </thead>\n",
       "  <tbody>\n",
       "    <tr>\n",
       "      <td>0</td>\n",
       "      <td>said,mr,bacon,government,relief</td>\n",
       "      <td>'A slap in the face': This family has received just $1,280 two months after their home burned down</td>\n",
       "      <td>http://www.abc.net.au/news/2020-01-17/bushfire-recovery-financial-aid-too-little-too-late/11869252</td>\n",
       "      <td>Updated             January                        A bushfire wiped out Al Bacon's town and left him with serious burns two months ago  but he says it may as well have happened yesterday.Ti...</td>\n",
       "      <td>2020-01-16T18:13:42Z</td>\n",
       "      <td>https://www.abc.net.au/news/image/11693498-16x9-700x394.jpg</td>\n",
       "      <td>general</td>\n",
       "    </tr>\n",
       "  </tbody>\n",
       "</table>\n",
       "</div>"
      ],
      "text/plain": [
       "                          keywords  \\\n",
       "0  said,mr,bacon,government,relief   \n",
       "\n",
       "                                                                                                title  \\\n",
       "0  'A slap in the face': This family has received just $1,280 two months after their home burned down   \n",
       "\n",
       "                                                                                                  url  \\\n",
       "0  http://www.abc.net.au/news/2020-01-17/bushfire-recovery-financial-aid-too-little-too-late/11869252   \n",
       "\n",
       "                                                                                                                                                                                               description  \\\n",
       "0         Updated             January                        A bushfire wiped out Al Bacon's town and left him with serious burns two months ago  but he says it may as well have happened yesterday.Ti...   \n",
       "\n",
       "                pubdate  \\\n",
       "0  2020-01-16T18:13:42Z   \n",
       "\n",
       "                                                    urlToImage category  \n",
       "0  https://www.abc.net.au/news/image/11693498-16x9-700x394.jpg  general  "
      ]
     },
     "execution_count": 2,
     "metadata": {},
     "output_type": "execute_result"
    }
   ],
   "source": [
    "\n",
    "import pickle\n",
    "pickle_in = open(\"data-model/scrapped_df_other.pkl\",\"rb\") \n",
    "df = pickle.load(pickle_in) \n",
    "\n",
    "df.head(1)"
   ]
  },
  {
   "cell_type": "code",
   "execution_count": 3,
   "metadata": {},
   "outputs": [
    {
     "name": "stderr",
     "output_type": "stream",
     "text": [
      "/home/arjun/anaconda3/lib/python3.7/site-packages/matplotlib/cbook/__init__.py:2349: DeprecationWarning: Using or importing the ABCs from 'collections' instead of from 'collections.abc' is deprecated, and in 3.8 it will stop working\n",
      "  if isinstance(obj, collections.Iterator):\n",
      "/home/arjun/anaconda3/lib/python3.7/site-packages/matplotlib/cbook/__init__.py:2366: DeprecationWarning: Using or importing the ABCs from 'collections' instead of from 'collections.abc' is deprecated, and in 3.8 it will stop working\n",
      "  return list(data) if isinstance(data, collections.MappingView) else data\n"
     ]
    },
    {
     "data": {
      "image/png": "[encoded data removed]",
      "text/plain": [
       "<Figure size 1440x360 with 1 Axes>"
      ]
     },
     "metadata": {
      "needs_background": "light"
     },
     "output_type": "display_data"
    }
   ],
   "source": [
    "# function to plot most frequent terms\n",
    "\n",
    "def freq_words(x, terms = 30):\n",
    "  all_words = ' '.join([text for text in x])\n",
    "  all_words = all_words.split()\n",
    "\n",
    "  fdist = FreqDist(all_words)\n",
    "  words_df = pd.DataFrame({'word':list(fdist.keys()), 'count':list(fdist.values())})\n",
    "\n",
    "  # selecting top 20 most frequent words\n",
    "  d = words_df.nlargest(columns=\"count\", n = terms) \n",
    "  plt.figure(figsize=(20,5))\n",
    "  ax = sns.barplot(data=d, x= \"word\", y = \"count\")\n",
    "  ax.set(ylabel = 'Count')\n",
    "  plt.show()\n",
    "    \n",
    "freq_words(df['description'], 20)"
   ]
  },
  {
   "cell_type": "code",
   "execution_count": 4,
   "metadata": {},
   "outputs": [],
   "source": [
    "# remove unwanted characters, numbers and symbols\n",
    "df['description'] = df['description'].str.replace(\"[^a-zA-Z#]\", \" \")"
   ]
  },
  {
   "cell_type": "code",
   "execution_count": 9,
   "metadata": {},
   "outputs": [
    {
     "data": {
      "text/plain": [
       "str"
      ]
     },
     "execution_count": 9,
     "metadata": {},
     "output_type": "execute_result"
    }
   ],
   "source": [
    "from nltk.corpus import stopwords\n",
    "stop_words = stopwords.words('english')\n",
    "stop_words.extend(['news', 'top', 'policy', 'post', 'long', 'first', 'told', 'uploads', 'root', 'year', 'summary', 'back', 'name', 'span', 'data', 'new', 'time', 'one', 'last', 'jpg', 'img', 'png', 'html', 'width', 'content', 'text', 'two', 'video', 'source', 'paragraph', 'true', 'style', 'title', 'but', 'height', 'div', 'strong', 'image', 'com', 'href', 'class', 'https', 'www', 'amp', 'said', 'would', 'http', 'src', 'target', 'blank', 'get', 'like', 'blank', 'from', 'subject', 're', 'edu', 'use', 'not', 'would', 'say', 'could', '_', 'be', 'know', 'good', 'go', 'get', 'do', 'done', 'try', 'many', 'some', 'nice', 'thank', 'think', 'see', 'rather', 'easy', 'easily', 'lot', 'lack', 'make', 'want', 'seem', 'run', 'need', 'even', 'right', 'line', 'even', 'also', 'may', 'take', 'come'])\n",
    "\n",
    "# function to remove stopwords\n",
    "def remove_stopwords(rev):\n",
    "    rev_new = \" \".join([i for i in rev if i not in stop_words])\n",
    "    return rev_new\n",
    "\n",
    "# remove short words (length < 3)\n",
    "df['description'] = df['description'].apply(lambda x: ' '.join([w for w in x.split() if len(w)>2]))\n",
    "\n",
    "# remove stopwords from the text\n",
    "reviews = [remove_stopwords(r.split()) for r in df['description']]\n",
    "\n",
    "# make entire text lowercase\n",
    "reviews = [r.lower() for r in reviews]\n",
    "type(reviews[0])"
   ]
  },
  {
   "cell_type": "code",
   "execution_count": 95,
   "metadata": {},
   "outputs": [
    {
     "data": {
      "image/png": "[encoded data removed]",
      "text/plain": [
       "<Figure size 1440x360 with 1 Axes>"
      ]
     },
     "metadata": {
      "needs_background": "light"
     },
     "output_type": "display_data"
    }
   ],
   "source": [
    "freq_words(reviews, 20)"
   ]
  },
  {
   "cell_type": "code",
   "execution_count": 96,
   "metadata": {},
   "outputs": [
    {
     "name": "stdout",
     "output_type": "stream",
     "text": [
      "['published', 'updated', 'timestamp', 'january', 'bushfire', 'wiped', 'bacons', 'town', 'left', 'serious', 'burns', 'months', 'ago', 'says', 'well', 'happened', 'yesterday', 'time', 'hasnt', 'changed', 'much', 'wytaliba', 'north', 'eastern', 'nsw', 'town', 'nsw', 'bushfires', 'inside', 'small', 'town', 'wiped', 'wytaliba', 'self', 'bushfire', 'november', 'killed', 'people', 'destroyed', 'dozens', 'homes', 'buildings', 'bacon', 'uninsured', 'lost', 'everything', 'except', 'baby', 'photos', 'clothes', 'disgusted', 'small', 'amount', 'relief', 'funds', 'family', 'received', 'far', 'partner', 'son', 'paid', 'grant', 'state', 'government', 'relief', 'fund', 'its', 'much', 'slap', 'face', 'fire', 'young', 'father', 'bacon', 'among', 'lost', 'everything', 'recent', 'bushfires', 'financial', 'assistance', 'welcomed', 'little', 'arriving', 'late', 'wytaliba', 'rural', 'fire', 'service', 'firefighter', 'joe', 'borgia', 'struggling', 'find', 'funds', 'rebuild', 'home', 'three', 'firefighters', 'captured', 'driving', 'terrifying', 'firestorm', 'wytaliba', 'event', 'left', 'unable', 'sleep', 'weeks', 'borgia', 'received', 'federal', 'government', 'disaster', 'recovery', 'payment', 'waiting', 'almost', 'month', 'funds', 'red', 'cross', 'nsw', 'government', 'one', 'thousand', 'dollars', 'isnt', 'much', 'consider', 'much', 'donated', 'rfs', 'days', 'daughter', 'must', 'vacate', 'temporary', 'accommodation', 'glen', 'innes', 'return', 'live', 'wytaliba', 'but', 'loss', 'find', 'hell', 'set', 'kit', 'home', 'property', 'starting', 'feel', 'bit', 'money', 'saved', 'ive', 'gone', 'borgia', 'borgia', 'relieved', 'another', 'wytaliba', 'resident', 'gave', 'thanks', 'saving', 'house', 'helped', 'day', 'day', 'expenses', 'the', 'thing', 'keep', 'chasing', 'disaster', 'relief', 'grants', 'fast', 'bacons', 'family', 'applied', 'financial', 'assistance', 'vincent', 'paul', 'awaiting', 'response', 'aware', 'federal', 'governments', 'disaster', 'recovery', 'payments', 'per', 'adult', 'per', 'child', 'scott', 'morrison', 'bushfire', 'recovery', 'bill', 'self', 'announced', 'weeks', 'wytaliba', 'fire', 'apply', 'the', 'federal', 'government', 'offering', 'lost', 'income', 'allowances', 'nsw', 'government', 'commits', 'billion', 'fires', 'recovery', 'self', 'committed', 'billion', 'bushfire', 'recovery', 'agency', 'thats', 'separate', 'individual', 'disaster', 'relief', 'payments', 'elsewhere', 'red', 'cross', 'providing', 'emergency', 'grants', 'big', 'four', 'banks', 'relief', 'packages', 'available', 'customers', 'bacon', 'communication', 'better', 'entitlements', 'available', 'needed', 'support', 'people', 'received', 'funds', 'the', 'issue', 'money', 'deal', 'everything', 'theres', 'follow', 'youre', 'experts', 'evaluate', 'land', 'give', 'guidance', 'exactly', 'rebuild', 'theres', 'threat', 'erosion', 'example', 'bacon', 'wreckage', 'still', 'hadnt', 'cleared', 'asbestos', 'contaminated', 'material', 'remained', 'despite', 'nsw', 'governments', 'commitment', 'november', 'million', 'bushfire', 'cleanup', 'not', 'bacon', 'suffer', 'horrific', 'burns', 'hit', 'car', 'tried', 'reach', 'neighbour', 'nsw', 'fire', 'second', 'death', 'confirmed', 'self', 'george', 'nole', 'died', 'fire', 'after', 'weeks', 'sydney', 'hospital', 'largely', 'recovered', 'cant', 'yet', 'return', 'work', 'concreter', 'skin', 'unable', 'handle', 'sunlight', 'shortly', 'bushfires', 'ravaged', 'communities', 'north', 'state', 'premier', 'gladys', 'berejiklian', 'vowed', 'provide', 'assistance', 'quickly', 'possible', 'bacon', 'partner', 'storm', 'sparks', 'claim', 'wait', 'almost', 'month', 'money', 'but', 'amount', 'shocked', 'got', 'disgusted', 'tell', 'truth', 'bacon', 'what', 'real', 'world', 'bacon', 'money', 'spent', 'bill', 'ambulance', 'hit', 'car', 'family', 'pay', 'weeks', 'rent', 'front', 'temporary', 'accommodation', 'glen', 'innes', 'spokesperson', 'nsw', 'office', 'emergency', 'management', 'oem', 'disaster', 'relief', 'grants', 'designed', 'provide', 'basic', 'level', 'assistance', 'determine', 'amount', 'paid', 'bushfire', 'victims', 'government', 'takes', 'account', 'applicants', 'weekly', 'wage', 'centrelink', 'benefit', 'minimum', 'weekly', 'rent', 'mortgage', 'payment', 'dependants', 'oem', 'receiving', 'requests', 'disaster', 'relief', 'grants', 'across', 'state', 'priority', 'process', 'requests', 'soon', 'possible', 'south', 'coast', 'andrew', 'constance', 'criticised', 'distribution', 'bushfire', 'relief', 'funding', 'saying', 'simply', 'taking', 'flow', 'devastated', 'communities', 'echoing', 'people', 'saying', 'desperate', 'weve', 'got', 'thousands', 'displaced', 'people', 'farmers', 'cant', 'stock', 'fed', 'people', 'sleeping', 'lounges', 'tents', 'bush', 'weve', 'got', 'real', 'humanitarian', 'crisis', 'bega', 'mayor', 'kristie', 'mcbain', 'agreed', 'process', 'left', 'residents', 'feeling', 'frustrated', 'some', 'people', 'help', 'becomes', 'difficult', 'theres', 'always', 'form', 'fill', 'process', 'number', 'ring', 'meeting', 'attend', 'definitely', 'adds', 'frustration', 'but', 'federal', 'minister', 'government', 'services', 'stuart', 'robert', 'constances', 'criticism', 'completely', 'wrong', 'government', 'delivered', 'almost', 'million', 'aid', 'people', 'across', 'state', 'understand', 'position', 'frustrations', 'couldnt', 'wrong', 'robert', 'payments', 'made', 'claims', 'they', 'got', 'phone', 'answered', 'seven', 'seconds', 'got', 'claim', 'minutes', 'got', 'paid', 'minutes', 'the', 'speed', 'operating', 'unseen', 'disaster', 'country', 'topics', 'topics', 'topic', 'disasters', 'accidents', 'disasters', 'accidents', 'topic', 'fires', 'fires', 'topic', 'bushfire', 'bushfire', 'topic', 'states', 'territories', 'states', 'territories', 'topic', 'federal', 'government', 'federal', 'government', 'topic', 'glen', 'innes', 'glen', 'innes', 'published', 'first', 'posted', 'timestamp', 'january', 'button', 'contact', 'feedback', 'contact', 'paige', 'cockburn', 'button', 'nsw', 'more', 'stories', 'new', 'south', 'wales', 'inside', 'knowledge', 'topic', 'contact', 'tip', 'self', 'contact', 'abc', 'abc', 'net', 'backstory', 'self', 'abc', 'teams', 'share', 'story', 'behind', 'story', 'insights', 'making', 'digital', 'radio', 'abc', 'net', 'abc', 'guides', 'abc', 'editorial', 'standards', 'self', 'read', 'editorial', 'guiding', 'principles', 'standards', 'abc', 'journalists', 'makers', 'follow', 'abc', 'net', 'abc', 'guides', 'abc', 'editorial', 'standards', 'self', 'learn', 'inga', 'ting', 'self', 'inga', 'ting', 'alex', 'palmer', 'self', 'alex', 'palmer', 'the', 'typical', 'sexual', 'assault', 'reported', 'police', 'shifting', 'legal', 'system', 'totally', 'ill', 'equipped', 'billed', 'opportunity', 'scott', 'morrison', 'reset', 'disastrous', 'start', 'political', 'but', 'end', 'defensive', 'morrison', 'doubled', 'erin', 'handley', 'self', 'erin', 'handley', 'wires', 'tracking', 'spread', 'coronavirus', 'fish', 'market', 'wuhan', 'broader', 'china', 'across', 'world', 'exclusive', 'bang', 'xiao', 'self', 'bang', 'xiao', 'the', 'abc', 'confirmed', 'least', 'australian', 'children', 'currently', 'trapped', 'wuhan', 'lockdown', 'death', 'toll', 'coronavirus', 'moves', 'small', 'this', 'service', 'include', 'material', 'agence', 'france', 'presse', 'afp', 'aptn', 'reuters', 'aap', 'cnn', 'bbc', 'world', 'service', 'copyright', 'cannot', 'reproduced', 'small', 'small', 'aedt', 'australian', 'eastern', 'daylight', 'savings', 'time', 'hours', 'ahead', 'gmt', 'greenwich', 'mean', 'time', 'small']\n"
     ]
    }
   ],
   "source": [
    "nlp = spacy.load('en', disable=['parser', 'ner'])\n",
    "\n",
    "def lemmatization(texts, tags=['NOUN', 'ADJ']): # filter noun and adjective\n",
    "       output = []\n",
    "       for sent in texts:\n",
    "             doc = nlp(\" \".join(sent)) \n",
    "             output.append([token.lemma_ for token in doc if token.pos_ in tags])\n",
    "       return output\n",
    "\n",
    "tokenized_reviews = pd.Series(reviews).apply(lambda x: x.split())\n",
    "print(tokenized_reviews[0])"
   ]
  },
  {
   "cell_type": "code",
   "execution_count": 97,
   "metadata": {},
   "outputs": [
    {
     "name": "stdout",
     "output_type": "stream",
     "text": [
      "['bushfire', 'bacon', 'town', 'serious', 'burn', 'month', 'yesterday', 'time', 'much', 'wytaliba', 'town', 'small', 'town', 'self', 'people', 'home', 'building', 'baby', 'photo', 'clothe', 'small', 'amount', 'relief', 'fund', 'family', 'far', 'partner', 'son', 'state', 'government', 'relief', 'fund', 'much', 'slap', 'face', 'fire', 'young', 'recent', 'bushfire', 'financial', 'assistance', 'little', 'late', 'wytaliba', 'fire', 'firefighter', 'fund', 'home', 'firefighter', 'terrifying', 'firestorm', 'wytaliba', 'event', 'unable', 'sleep', 'week', 'federal', 'government', 'disaster', 'recovery', 'payment', 'month', 'fund', 'government', 'dollar', 'day', 'daughter', 'temporary', 'accommodation', 'glen', 'inne', 'live', 'wytaliba', 'loss', 'hell', 'kit', 'home', 'property', 'feel', 'bit', 'money', 'wytaliba', 'resident', 'thank', 'day', 'thing', 'disaster', 'relief', 'grant', 'bacon', 'family', 'financial', 'assistance', 'response', 'aware', 'federal', 'government', 'disaster', 'recovery', 'payment', 'adult', 'child', 'self', 'week', 'wytaliba', 'fire', 'federal', 'government', 'offering', 'income', 'allowance', 'government', 'fire', 'recovery', 'self', 'recovery', 'separate', 'individual', 'disaster', 'relief', 'payment', 'red', 'emergency', 'grant', 'big', 'bank', 'relief', 'package', 'available', 'customer', 'bacon', 'communication', 'well', 'entitlement', 'available', 'support', 'people', 'fund', 'issue', 'money', 'expert', 'land', 'guidance', 'threat', 'erosion', 'wreckage', 'asbestos', 'material', 'government', 'commitment', 'horrific', 'burn', 'car', 'reach', 'neighbour', 'fire', 'second', 'death', 'self', 'fire', 'week', 'work', 'concreter', 'skin', 'unable', 'handle', 'sunlight', 'community', 'provide', 'assistance', 'possible', 'partner', 'storm', 'claim', 'month', 'money', 'amount', 'disgusted', 'tell', 'truth', 'bacon', 'real', 'money', 'bill', 'ambulance', 'car', 'family', 'pay', 'week', 'front', 'temporary', 'accommodation', 'disaster', 'relief', 'grant', 'basic', 'level', 'assistance', 'determine', 'amount', 'bushfire', 'victim', 'government', 'account', 'applicant', 'weekly', 'wage', 'centrelink', 'benefit', 'minimum', 'weekly', 'rent', 'mortgage', 'payment', 'dependant', 'request', 'disaster', 'relief', 'grant', 'state', 'priority', 'process', 'request', 'possible', 'distribution', 'bushfire', 'relief', 'funding', 'flow', 'community', 'people', 'desperate', 'thousand', 'people', 'farmer', 'people', 'tent', 'real', 'humanitarian', 'process', 'resident', 'people', 'difficult', 's', 'fill', 'process', 'number', 'ring', 'meeting', 'frustration', 'criticism', 'wrong', 'government', 'aid', 'people', 'state', 'position', 'frustration', 'payment', 'claim', 'phone', 'second', 'claim', 'minute', 'minute', 'speed', 'unseen', 'disaster', 'country', 'topic', 'topic', 'topic', 'disaster', 'accident', 'disaster', 'accident', 'topic', 'fire', 'fire', 'topic', 'federal', 'government', 'government', 'timestamp', 'button', 'feedback', 'contact', 'cockburn', 'button', 'more', 'story', 'knowledge', 'topic', 'contact', 'tip', 'story', 'story', 'standard', 'self', 'editorial', 'principle', 'maker', 'standard', 'self', 'self', 'typical', 'sexual', 'assault', 'police', 'legal', 'system', 'equipped', 'opportunity', 'disastrous', 'start', 'political', 'defensive', 'wire', 'broad', 'exclusive', 'least', 'australian', 'child', 'death', 'toll', 'small', 'service', 'material', 'copyright', 'small', 'small', 'australian', 'eastern', 'saving', 'time', 'hour', 'mean', 'time', 'small']\n"
     ]
    }
   ],
   "source": [
    "reviews_2 = lemmatization(tokenized_reviews)\n",
    "print(reviews_2[0]) # print lemmatized review"
   ]
  },
  {
   "cell_type": "code",
   "execution_count": 99,
   "metadata": {},
   "outputs": [
    {
     "data": {
      "image/png": "[encoded data removed]",
      "text/plain": [
       "<Figure size 1440x360 with 1 Axes>"
      ]
     },
     "metadata": {
      "needs_background": "light"
     },
     "output_type": "display_data"
    }
   ],
   "source": [
    "reviews_3 = []\n",
    "for i in range(len(reviews_2)):\n",
    "    reviews_3.append(' '.join(reviews_2[i]))\n",
    "\n",
    "df['reviews'] = reviews_3\n",
    "\n",
    "freq_words(df['reviews'], 25)"
   ]
  },
  {
   "cell_type": "code",
   "execution_count": 100,
   "metadata": {},
   "outputs": [],
   "source": [
    "dictionary = corpora.Dictionary(reviews_2)"
   ]
  },
  {
   "cell_type": "code",
   "execution_count": 101,
   "metadata": {},
   "outputs": [],
   "source": [
    "doc_term_matrix = [dictionary.doc2bow(rev) for rev in reviews_2]"
   ]
  },
  {
   "cell_type": "code",
   "execution_count": 103,
   "metadata": {},
   "outputs": [],
   "source": [
    "# Creating the object for LDA model using gensim library\n",
    "LDA = gensim.models.ldamodel.LdaModel\n",
    "\n",
    "# Build LDA model\n",
    "lda_model = LDA(corpus=doc_term_matrix, id2word=dictionary, num_topics=50, random_state=100,\n",
    "                chunksize=1000, passes=50)"
   ]
  },
  {
   "cell_type": "code",
   "execution_count": 104,
   "metadata": {},
   "outputs": [
    {
     "data": {
      "text/plain": [
       "[(28,\n",
       "  '0.039*\"youtube\" + 0.028*\"viewer\" + 0.018*\"draft\" + 0.017*\"big\" + 0.016*\"sport\" + 0.014*\"espn\" + 0.011*\"video\" + 0.010*\"twitch\" + 0.009*\"league\" + 0.007*\"exclusive\"'),\n",
       " (7,\n",
       "  '0.086*\"team\" + 0.014*\"ad\" + 0.013*\"number\" + 0.013*\"false\" + 0.013*\"requiresizeadjustment\" + 0.013*\"supportsflashvideo\" + 0.013*\"vast\" + 0.013*\"season\" + 0.013*\"video\" + 0.012*\"position\"'),\n",
       " (39,\n",
       "  '0.030*\"fire\" + 0.023*\"plane\" + 0.021*\"aircraft\" + 0.013*\"crash\" + 0.013*\"people\" + 0.013*\"stat\" + 0.010*\"season\" + 0.009*\"service\" + 0.008*\"australian\" + 0.008*\"total\"'),\n",
       " (44,\n",
       "  '0.053*\"clay\" + 0.037*\"word\" + 0.036*\"nymag\" + 0.035*\"intelligencer\" + 0.033*\"instance\" + 0.012*\"count\" + 0.008*\"people\" + 0.006*\"music\" + 0.006*\"company\" + 0.006*\"term\"'),\n",
       " (38,\n",
       "  '0.060*\"game\" + 0.017*\"player\" + 0.012*\"cyberpunk\" + 0.010*\"release\" + 0.009*\"developer\" + 0.009*\"label\" + 0.008*\"compact\" + 0.007*\"story\" + 0.007*\"box\" + 0.007*\"character\"'),\n",
       " (26,\n",
       "  '0.024*\"royal\" + 0.013*\"weinstein\" + 0.012*\"money\" + 0.011*\"family\" + 0.011*\"woman\" + 0.011*\"sexual\" + 0.010*\"article\" + 0.010*\"aposs\" + 0.008*\"harry\" + 0.008*\"assault\"'),\n",
       " (13,\n",
       "  '0.013*\"browser\" + 0.013*\"feature\" + 0.012*\"theverge\" + 0.012*\"android\" + 0.012*\"web\" + 0.012*\"user\" + 0.012*\"cookie\" + 0.012*\"dance\" + 0.011*\"party\" + 0.009*\"file\"'),\n",
       " (6,\n",
       "  '0.025*\"people\" + 0.019*\"twitter\" + 0.013*\"medium\" + 0.010*\"way\" + 0.010*\"thing\" + 0.009*\"social\" + 0.008*\"world\" + 0.007*\"company\" + 0.007*\"dfinity\" + 0.007*\"work\"'),\n",
       " (14,\n",
       "  '0.025*\"patient\" + 0.023*\"care\" + 0.021*\"market\" + 0.017*\"industry\" + 0.017*\"people\" + 0.016*\"virus\" + 0.016*\"health\" + 0.014*\"fourfourtwo\" + 0.012*\"region\" + 0.012*\"trend\"'),\n",
       " (29,\n",
       "  '0.218*\"component\" + 0.011*\"people\" + 0.008*\"country\" + 0.004*\"african\" + 0.004*\"tax\" + 0.004*\"whatsapp\" + 0.004*\"security\" + 0.004*\"world\" + 0.004*\"high\" + 0.004*\"little\"'),\n",
       " (21,\n",
       "  '0.062*\"promo\" + 0.014*\"primer\" + 0.012*\"story\" + 0.012*\"sport\" + 0.010*\"player\" + 0.010*\"multi\" + 0.009*\"gel\" + 0.009*\"point\" + 0.009*\"body\" + 0.008*\"activity\"'),\n",
       " (18,\n",
       "  '0.022*\"topic\" + 0.019*\"small\" + 0.019*\"self\" + 0.012*\"speaker\" + 0.011*\"australian\" + 0.010*\"time\" + 0.010*\"story\" + 0.008*\"standard\" + 0.008*\"music\" + 0.007*\"hour\"'),\n",
       " (47,\n",
       "  '0.019*\"client\" + 0.016*\"adviser\" + 0.013*\"financial\" + 0.013*\"coffee\" + 0.011*\"figure\" + 0.010*\"old\" + 0.008*\"business\" + 0.008*\"training\" + 0.008*\"sale\" + 0.008*\"manager\"'),\n",
       " (48,\n",
       "  '0.020*\"device\" + 0.012*\"address\" + 0.012*\"high\" + 0.011*\"government\" + 0.009*\"project\" + 0.008*\"party\" + 0.008*\"slave\" + 0.007*\"bit\" + 0.007*\"master\" + 0.007*\"chip\"'),\n",
       " (4,\n",
       "  '0.029*\"service\" + 0.028*\"peacock\" + 0.021*\"streaming\" + 0.019*\"subscriber\" + 0.014*\"netflix\" + 0.012*\"free\" + 0.011*\"show\" + 0.010*\"ad\" + 0.009*\"launch\" + 0.008*\"org\"'),\n",
       " (1,\n",
       "  '0.025*\"car\" + 0.020*\"phone\" + 0.015*\"vehicle\" + 0.012*\"self\" + 0.012*\"cruise\" + 0.011*\"saudi\" + 0.010*\"laser\" + 0.009*\"bezos\" + 0.007*\"company\" + 0.007*\"sense\"'),\n",
       " (42,\n",
       "  '0.017*\"illegal\" + 0.016*\"sale\" + 0.014*\"drug\" + 0.013*\"opioid\" + 0.010*\"hashtag\" + 0.010*\"online\" + 0.009*\"tool\" + 0.009*\"parna\" + 0.008*\"fusion\" + 0.008*\"practice\"'),\n",
       " (17,\n",
       "  '0.028*\"virus\" + 0.025*\"people\" + 0.020*\"case\" + 0.015*\"chinese\" + 0.013*\"color\" + 0.013*\"font\" + 0.011*\"city\" + 0.011*\"body\" + 0.011*\"authority\" + 0.010*\"travel\"'),\n",
       " (33,\n",
       "  '0.039*\"privacy\" + 0.031*\"site\" + 0.027*\"term\" + 0.022*\"fortune\" + 0.020*\"right\" + 0.020*\"agreement\" + 0.018*\"user\" + 0.018*\"link\" + 0.015*\"author\" + 0.013*\"affiliate\"'),\n",
       " (24,\n",
       "  '0.078*\"file\" + 0.034*\"public\" + 0.033*\"default\" + 0.032*\"style\" + 0.031*\"gallery\" + 0.029*\"body\" + 0.029*\"large\" + 0.023*\"vimn\" + 0.015*\"site\" + 0.013*\"world\"')]"
      ]
     },
     "execution_count": 104,
     "metadata": {},
     "output_type": "execute_result"
    }
   ],
   "source": [
    "lda_model.print_topics()"
   ]
  },
  {
   "cell_type": "code",
   "execution_count": null,
   "metadata": {},
   "outputs": [],
   "source": []
  }
 ],
 "metadata": {
  "kernelspec": {
   "display_name": "Python 3",
   "language": "python",
   "name": "python3"
  },
  "language_info": {
   "codemirror_mode": {
    "name": "ipython",
    "version": 3
   },
   "file_extension": ".py",
   "mimetype": "text/x-python",
   "name": "python",
   "nbconvert_exporter": "python",
   "pygments_lexer": "ipython3",
   "version": "3.7.4"
  }
 },
 "nbformat": 4,
 "nbformat_minor": 2
}

{
 "cells": [
  {
   "cell_type": "code",
   "execution_count": 1,
   "metadata": {},
   "outputs": [
    {
     "name": "stderr",
     "output_type": "stream",
     "text": [
      "Downloading 20news dataset. This may take a few minutes.\n",
      "Downloading dataset from https://ndownloader.figshare.com/files/5975967 (14 MB)\n"
     ]
    }
   ],
   "source": [
    "from sklearn.datasets import fetch_20newsgroups\n",
    "newsgroups_train = fetch_20newsgroups(subset='train', shuffle = True)\n",
    "newsgroups_test = fetch_20newsgroups(subset='test', shuffle = True)"
   ]
  },
  {
   "cell_type": "code",
   "execution_count": 2,
   "metadata": {},
   "outputs": [
    {
     "name": "stdout",
     "output_type": "stream",
     "text": [
      "['alt.atheism', 'comp.graphics', 'comp.os.ms-windows.misc', 'comp.sys.ibm.pc.hardware', 'comp.sys.mac.hardware', 'comp.windows.x', 'misc.forsale', 'rec.autos', 'rec.motorcycles', 'rec.sport.baseball', 'rec.sport.hockey', 'sci.crypt', 'sci.electronics', 'sci.med', 'sci.space', 'soc.religion.christian', 'talk.politics.guns', 'talk.politics.mideast', 'talk.politics.misc', 'talk.religion.misc']\n"
     ]
    }
   ],
   "source": [
    "print(list(newsgroups_train.target_names))"
   ]
  },
  {
   "cell_type": "code",
   "execution_count": 3,
   "metadata": {},
   "outputs": [
    {
     "data": {
      "text/plain": [
       "[\"From: lerxst@wam.umd.edu (where's my thing)\\nSubject: WHAT car is this!?\\nNntp-Posting-Host: rac3.wam.umd.edu\\nOrganization: University of Maryland, College Park\\nLines: 15\\n\\n I was wondering if anyone out there could enlighten me on this car I saw\\nthe other day. It was a 2-door sports car, looked to be from the late 60s/\\nearly 70s. It was called a Bricklin. The doors were really small. In addition,\\nthe front bumper was separate from the rest of the body. This is \\nall I know. If anyone can tellme a model name, engine specs, years\\nof production, where this car is made, history, or whatever info you\\nhave on this funky looking car, please e-mail.\\n\\nThanks,\\n- IL\\n   ---- brought to you by your neighborhood Lerxst ----\\n\\n\\n\\n\\n\",\n",
       " \"From: guykuo@carson.u.washington.edu (Guy Kuo)\\nSubject: SI Clock Poll - Final Call\\nSummary: Final call for SI clock reports\\nKeywords: SI,acceleration,clock,upgrade\\nArticle-I.D.: shelley.1qvfo9INNc3s\\nOrganization: University of Washington\\nLines: 11\\nNNTP-Posting-Host: carson.u.washington.edu\\n\\nA fair number of brave souls who upgraded their SI clock oscillator have\\nshared their experiences for this poll. Please send a brief message detailing\\nyour experiences with the procedure. Top speed attained, CPU rated speed,\\nadd on cards and adapters, heat sinks, hour of usage per day, floppy disk\\nfunctionality with 800 and 1.4 m floppies are especially requested.\\n\\nI will be summarizing in the next two days, so please add to the network\\nknowledge base if you have done the clock upgrade and haven't answered this\\npoll. Thanks.\\n\\nGuy Kuo <guykuo@u.washington.edu>\\n\"]"
      ]
     },
     "execution_count": 3,
     "metadata": {},
     "output_type": "execute_result"
    }
   ],
   "source": [
    "newsgroups_train.data[:2]"
   ]
  },
  {
   "cell_type": "code",
   "execution_count": 4,
   "metadata": {},
   "outputs": [
    {
     "name": "stdout",
     "output_type": "stream",
     "text": [
      "(11314,) (11314,)\n"
     ]
    }
   ],
   "source": [
    "print(newsgroups_train.filenames.shape, newsgroups_train.target.shape)"
   ]
  },
  {
   "cell_type": "code",
   "execution_count": 5,
   "metadata": {},
   "outputs": [],
   "source": [
    "'''\n",
    "Loading Gensim and nltk libraries\n",
    "'''\n",
    "# pip install gensim\n",
    "import gensim\n",
    "from gensim.utils import simple_preprocess\n",
    "from gensim.parsing.preprocessing import STOPWORDS\n",
    "from nltk.stem import WordNetLemmatizer, SnowballStemmer\n",
    "from nltk.stem.porter import *\n",
    "import numpy as np\n",
    "np.random.seed(400)"
   ]
  },
  {
   "cell_type": "code",
   "execution_count": 6,
   "metadata": {},
   "outputs": [],
   "source": [
    "import nltk\n",
    "# nltk.download('wordnet')"
   ]
  },
  {
   "cell_type": "code",
   "execution_count": 7,
   "metadata": {},
   "outputs": [
    {
     "name": "stdout",
     "output_type": "stream",
     "text": [
      "go\n"
     ]
    }
   ],
   "source": [
    "print(WordNetLemmatizer().lemmatize('went', pos = 'v')) # past tense to present tense"
   ]
  },
  {
   "cell_type": "code",
   "execution_count": 8,
   "metadata": {},
   "outputs": [
    {
     "data": {
      "text/html": [
       "<div>\n",
       "<style scoped>\n",
       "    .dataframe tbody tr th:only-of-type {\n",
       "        vertical-align: middle;\n",
       "    }\n",
       "\n",
       "    .dataframe tbody tr th {\n",
       "        vertical-align: top;\n",
       "    }\n",
       "\n",
       "    .dataframe thead th {\n",
       "        text-align: right;\n",
       "    }\n",
       "</style>\n",
       "<table border=\"1\" class=\"dataframe\">\n",
       "  <thead>\n",
       "    <tr style=\"text-align: right;\">\n",
       "      <th></th>\n",
       "      <th>original word</th>\n",
       "      <th>stemmed</th>\n",
       "    </tr>\n",
       "  </thead>\n",
       "  <tbody>\n",
       "    <tr>\n",
       "      <td>0</td>\n",
       "      <td>caresses</td>\n",
       "      <td>caress</td>\n",
       "    </tr>\n",
       "    <tr>\n",
       "      <td>1</td>\n",
       "      <td>flies</td>\n",
       "      <td>fli</td>\n",
       "    </tr>\n",
       "    <tr>\n",
       "      <td>2</td>\n",
       "      <td>dies</td>\n",
       "      <td>die</td>\n",
       "    </tr>\n",
       "    <tr>\n",
       "      <td>3</td>\n",
       "      <td>mules</td>\n",
       "      <td>mule</td>\n",
       "    </tr>\n",
       "    <tr>\n",
       "      <td>4</td>\n",
       "      <td>denied</td>\n",
       "      <td>deni</td>\n",
       "    </tr>\n",
       "    <tr>\n",
       "      <td>5</td>\n",
       "      <td>died</td>\n",
       "      <td>die</td>\n",
       "    </tr>\n",
       "    <tr>\n",
       "      <td>6</td>\n",
       "      <td>agreed</td>\n",
       "      <td>agre</td>\n",
       "    </tr>\n",
       "    <tr>\n",
       "      <td>7</td>\n",
       "      <td>owned</td>\n",
       "      <td>own</td>\n",
       "    </tr>\n",
       "    <tr>\n",
       "      <td>8</td>\n",
       "      <td>humbled</td>\n",
       "      <td>humbl</td>\n",
       "    </tr>\n",
       "    <tr>\n",
       "      <td>9</td>\n",
       "      <td>sized</td>\n",
       "      <td>size</td>\n",
       "    </tr>\n",
       "    <tr>\n",
       "      <td>10</td>\n",
       "      <td>meeting</td>\n",
       "      <td>meet</td>\n",
       "    </tr>\n",
       "    <tr>\n",
       "      <td>11</td>\n",
       "      <td>stating</td>\n",
       "      <td>state</td>\n",
       "    </tr>\n",
       "    <tr>\n",
       "      <td>12</td>\n",
       "      <td>siezing</td>\n",
       "      <td>siez</td>\n",
       "    </tr>\n",
       "    <tr>\n",
       "      <td>13</td>\n",
       "      <td>itemization</td>\n",
       "      <td>item</td>\n",
       "    </tr>\n",
       "    <tr>\n",
       "      <td>14</td>\n",
       "      <td>sensational</td>\n",
       "      <td>sensat</td>\n",
       "    </tr>\n",
       "    <tr>\n",
       "      <td>15</td>\n",
       "      <td>traditional</td>\n",
       "      <td>tradit</td>\n",
       "    </tr>\n",
       "    <tr>\n",
       "      <td>16</td>\n",
       "      <td>reference</td>\n",
       "      <td>refer</td>\n",
       "    </tr>\n",
       "    <tr>\n",
       "      <td>17</td>\n",
       "      <td>colonizer</td>\n",
       "      <td>colon</td>\n",
       "    </tr>\n",
       "    <tr>\n",
       "      <td>18</td>\n",
       "      <td>plotted</td>\n",
       "      <td>plot</td>\n",
       "    </tr>\n",
       "  </tbody>\n",
       "</table>\n",
       "</div>"
      ],
      "text/plain": [
       "   original word stemmed\n",
       "0       caresses  caress\n",
       "1          flies     fli\n",
       "2           dies     die\n",
       "3          mules    mule\n",
       "4         denied    deni\n",
       "5           died     die\n",
       "6         agreed    agre\n",
       "7          owned     own\n",
       "8        humbled   humbl\n",
       "9          sized    size\n",
       "10       meeting    meet\n",
       "11       stating   state\n",
       "12       siezing    siez\n",
       "13   itemization    item\n",
       "14   sensational  sensat\n",
       "15   traditional  tradit\n",
       "16     reference   refer\n",
       "17     colonizer   colon\n",
       "18       plotted    plot"
      ]
     },
     "execution_count": 8,
     "metadata": {},
     "output_type": "execute_result"
    }
   ],
   "source": [
    "import pandas as pd\n",
    "stemmer = SnowballStemmer(\"english\")\n",
    "original_words = ['caresses', 'flies', 'dies', 'mules', 'denied','died', 'agreed', 'owned', \n",
    "           'humbled', 'sized','meeting', 'stating', 'siezing', 'itemization','sensational', \n",
    "           'traditional', 'reference', 'colonizer','plotted']\n",
    "singles = [stemmer.stem(plural) for plural in original_words]\n",
    "\n",
    "pd.DataFrame(data={'original word':original_words, 'stemmed':singles })"
   ]
  },
  {
   "cell_type": "code",
   "execution_count": 9,
   "metadata": {},
   "outputs": [],
   "source": [
    "\n",
    "'''\n",
    "Write a function to perform the pre processing steps on the entire dataset\n",
    "'''\n",
    "def lemmatize_stemming(text):\n",
    "    return stemmer.stem(WordNetLemmatizer().lemmatize(text, pos='v'))\n",
    "\n",
    "# Tokenize and lemmatize\n",
    "def preprocess(text):\n",
    "    result=[]\n",
    "    for token in gensim.utils.simple_preprocess(text) :\n",
    "        if token not in gensim.parsing.preprocessing.STOPWORDS and len(token) > 3:\n",
    "            result.append(lemmatize_stemming(token))\n",
    "            \n",
    "    return result"
   ]
  },
  {
   "cell_type": "code",
   "execution_count": 10,
   "metadata": {},
   "outputs": [
    {
     "name": "stdout",
     "output_type": "stream",
     "text": [
      "Original document: \n",
      "['This', 'disk', 'has', 'failed', 'many', 'times.', 'I', 'would', 'like', 'to', 'get', 'it', 'replaced.']\n",
      "\n",
      "\n",
      "Tokenized and lemmatized document: \n",
      "['disk', 'fail', 'time', 'like', 'replac']\n"
     ]
    }
   ],
   "source": [
    "'''\n",
    "Preview a document after preprocessing\n",
    "'''\n",
    "document_num = 50\n",
    "doc_sample = 'This disk has failed many times. I would like to get it replaced.'\n",
    "\n",
    "print(\"Original document: \")\n",
    "words = []\n",
    "for word in doc_sample.split(' '):\n",
    "    words.append(word)\n",
    "print(words)\n",
    "print(\"\\n\\nTokenized and lemmatized document: \")\n",
    "print(preprocess(doc_sample))\n"
   ]
  },
  {
   "cell_type": "code",
   "execution_count": 11,
   "metadata": {},
   "outputs": [],
   "source": [
    "processed_docs = []\n",
    "\n",
    "for doc in newsgroups_train.data:\n",
    "    processed_docs.append(preprocess(doc))"
   ]
  },
  {
   "cell_type": "code",
   "execution_count": 12,
   "metadata": {},
   "outputs": [
    {
     "name": "stdout",
     "output_type": "stream",
     "text": [
      "[['lerxst', 'thing', 'subject', 'nntp', 'post', 'host', 'organ', 'univers', 'maryland', 'colleg', 'park', 'line', 'wonder', 'enlighten', 'door', 'sport', 'look', 'late', 'earli', 'call', 'bricklin', 'door', 'small', 'addit', 'bumper', 'separ', 'rest', 'bodi', 'know', 'tellm', 'model', 'engin', 'spec', 'year', 'product', 'histori', 'info', 'funki', 'look', 'mail', 'thank', 'bring', 'neighborhood', 'lerxst'], ['guykuo', 'carson', 'washington', 'subject', 'clock', 'poll', 'final', 'summari', 'final', 'clock', 'report', 'keyword', 'acceler', 'clock', 'upgrad', 'articl', 'shelley', 'qvfo', 'innc', 'organ', 'univers', 'washington', 'line', 'nntp', 'post', 'host', 'carson', 'washington', 'fair', 'number', 'brave', 'soul', 'upgrad', 'clock', 'oscil', 'share', 'experi', 'poll', 'send', 'brief', 'messag', 'detail', 'experi', 'procedur', 'speed', 'attain', 'rat', 'speed', 'card', 'adapt', 'heat', 'sink', 'hour', 'usag', 'floppi', 'disk', 'function', 'floppi', 'especi', 'request', 'summar', 'day', 'network', 'knowledg', 'base', 'clock', 'upgrad', 'haven', 'answer', 'poll', 'thank', 'guykuo', 'washington']]\n"
     ]
    }
   ],
   "source": [
    "\n",
    "'''\n",
    "Preview 'processed_docs'\n",
    "'''\n",
    "print(processed_docs[:2])"
   ]
  },
  {
   "cell_type": "code",
   "execution_count": 13,
   "metadata": {},
   "outputs": [],
   "source": [
    "'''\n",
    "Create a dictionary from 'processed_docs' containing the number of times a word appears \n",
    "in the training set using gensim.corpora.Dictionary and call it 'dictionary'\n",
    "'''\n",
    "dictionary = gensim.corpora.Dictionary(processed_docs)"
   ]
  },
  {
   "cell_type": "code",
   "execution_count": 14,
   "metadata": {},
   "outputs": [
    {
     "name": "stdout",
     "output_type": "stream",
     "text": [
      "0 addit\n",
      "1 bodi\n",
      "2 bricklin\n",
      "3 bring\n",
      "4 bumper\n",
      "5 call\n",
      "6 colleg\n",
      "7 door\n",
      "8 earli\n",
      "9 engin\n",
      "10 enlighten\n"
     ]
    }
   ],
   "source": [
    "'''\n",
    "Checking dictionary created\n",
    "'''\n",
    "count = 0\n",
    "for k, v in dictionary.iteritems():\n",
    "    print(k, v)\n",
    "    count += 1\n",
    "    if count > 10:\n",
    "        break"
   ]
  },
  {
   "cell_type": "code",
   "execution_count": 15,
   "metadata": {},
   "outputs": [],
   "source": [
    "\n",
    "'''\n",
    "OPTIONAL STEP\n",
    "Remove very rare and very common words:\n",
    "\n",
    "- words appearing less than 15 times\n",
    "- words appearing in more than 10% of all documents\n",
    "'''\n",
    "dictionary.filter_extremes(no_below=15, no_above=0.1, keep_n= 100000)"
   ]
  },
  {
   "cell_type": "code",
   "execution_count": 16,
   "metadata": {},
   "outputs": [],
   "source": [
    "'''\n",
    "Create the Bag-of-words model for each document i.e for each document we create a dictionary reporting how many\n",
    "words and how many times those words appear. Save this to 'bow_corpus'\n",
    "'''\n",
    "bow_corpus = [dictionary.doc2bow(doc) for doc in processed_docs]"
   ]
  },
  {
   "cell_type": "code",
   "execution_count": 17,
   "metadata": {},
   "outputs": [
    {
     "name": "stdout",
     "output_type": "stream",
     "text": [
      "Word 18 (\"rest\") appears 1 time.\n",
      "Word 166 (\"clear\") appears 1 time.\n",
      "Word 336 (\"refer\") appears 1 time.\n",
      "Word 350 (\"true\") appears 1 time.\n",
      "Word 391 (\"technolog\") appears 1 time.\n",
      "Word 437 (\"christian\") appears 1 time.\n",
      "Word 453 (\"exampl\") appears 1 time.\n",
      "Word 476 (\"jew\") appears 1 time.\n",
      "Word 480 (\"lead\") appears 1 time.\n",
      "Word 482 (\"littl\") appears 3 time.\n",
      "Word 520 (\"wors\") appears 2 time.\n",
      "Word 721 (\"keith\") appears 3 time.\n",
      "Word 732 (\"punish\") appears 1 time.\n",
      "Word 803 (\"california\") appears 1 time.\n",
      "Word 859 (\"institut\") appears 1 time.\n",
      "Word 917 (\"similar\") appears 1 time.\n",
      "Word 990 (\"allan\") appears 1 time.\n",
      "Word 991 (\"anti\") appears 1 time.\n",
      "Word 992 (\"arriv\") appears 1 time.\n",
      "Word 993 (\"austria\") appears 1 time.\n",
      "Word 994 (\"caltech\") appears 2 time.\n",
      "Word 995 (\"distinguish\") appears 1 time.\n",
      "Word 996 (\"german\") appears 1 time.\n",
      "Word 997 (\"germani\") appears 3 time.\n",
      "Word 998 (\"hitler\") appears 1 time.\n",
      "Word 999 (\"livesey\") appears 2 time.\n",
      "Word 1000 (\"motto\") appears 2 time.\n",
      "Word 1001 (\"order\") appears 1 time.\n",
      "Word 1002 (\"pasadena\") appears 1 time.\n",
      "Word 1003 (\"pompous\") appears 1 time.\n",
      "Word 1004 (\"popul\") appears 1 time.\n",
      "Word 1005 (\"rank\") appears 1 time.\n",
      "Word 1006 (\"schneider\") appears 1 time.\n",
      "Word 1007 (\"semit\") appears 1 time.\n",
      "Word 1008 (\"social\") appears 1 time.\n",
      "Word 1009 (\"solntz\") appears 1 time.\n"
     ]
    }
   ],
   "source": [
    "'''\n",
    "Preview BOW for our sample preprocessed document\n",
    "'''\n",
    "document_num = 20\n",
    "bow_doc_x = bow_corpus[document_num]\n",
    "\n",
    "for i in range(len(bow_doc_x)):\n",
    "    print(\"Word {} (\\\"{}\\\") appears {} time.\".format(bow_doc_x[i][0], \n",
    "                                                     dictionary[bow_doc_x[i][0]], \n",
    "                                                     bow_doc_x[i][1]))"
   ]
  },
  {
   "cell_type": "code",
   "execution_count": 18,
   "metadata": {},
   "outputs": [],
   "source": [
    "\n",
    "# LDA mono-core -- fallback code in case LdaMulticore throws an error on your machine\n",
    "# lda_model = gensim.models.LdaModel(bow_corpus, \n",
    "#                                    num_topics = 10, \n",
    "#                                    id2word = dictionary,                                    \n",
    "#                                    passes = 50)\n",
    "\n",
    "# LDA multicore \n",
    "'''\n",
    "Train your lda model using gensim.models.LdaMulticore and save it to 'lda_model'\n",
    "'''\n",
    "# TODO\n",
    "lda_model =  gensim.models.LdaMulticore(bow_corpus, \n",
    "                                   num_topics = 8, \n",
    "                                   id2word = dictionary,                                    \n",
    "                                   passes = 10,\n",
    "                                   workers = 2)"
   ]
  },
  {
   "cell_type": "code",
   "execution_count": 19,
   "metadata": {},
   "outputs": [
    {
     "name": "stdout",
     "output_type": "stream",
     "text": [
      "Topic: 0 \n",
      "Words: 0.008*\"bike\" + 0.005*\"game\" + 0.005*\"team\" + 0.004*\"run\" + 0.004*\"virginia\" + 0.004*\"player\" + 0.004*\"play\" + 0.004*\"homosexu\" + 0.003*\"pitch\" + 0.003*\"motorcycl\"\n",
      "\n",
      "\n",
      "Topic: 1 \n",
      "Words: 0.009*\"govern\" + 0.007*\"armenian\" + 0.005*\"israel\" + 0.005*\"kill\" + 0.005*\"isra\" + 0.004*\"american\" + 0.004*\"turkish\" + 0.004*\"countri\" + 0.004*\"weapon\" + 0.004*\"live\"\n",
      "\n",
      "\n",
      "Topic: 2 \n",
      "Words: 0.016*\"game\" + 0.014*\"team\" + 0.011*\"play\" + 0.009*\"hockey\" + 0.008*\"player\" + 0.005*\"canada\" + 0.005*\"season\" + 0.005*\"leagu\" + 0.004*\"score\" + 0.004*\"toronto\"\n",
      "\n",
      "\n",
      "Topic: 3 \n",
      "Words: 0.010*\"card\" + 0.010*\"window\" + 0.008*\"driver\" + 0.007*\"sale\" + 0.006*\"price\" + 0.005*\"speed\" + 0.005*\"appl\" + 0.005*\"engin\" + 0.005*\"monitor\" + 0.005*\"video\"\n",
      "\n",
      "\n",
      "Topic: 4 \n",
      "Words: 0.014*\"file\" + 0.010*\"program\" + 0.009*\"window\" + 0.006*\"encrypt\" + 0.006*\"chip\" + 0.006*\"data\" + 0.006*\"imag\" + 0.006*\"avail\" + 0.005*\"version\" + 0.004*\"code\"\n",
      "\n",
      "\n",
      "Topic: 5 \n",
      "Words: 0.012*\"space\" + 0.009*\"nasa\" + 0.006*\"scienc\" + 0.005*\"orbit\" + 0.004*\"research\" + 0.004*\"launch\" + 0.003*\"pitt\" + 0.003*\"earth\" + 0.003*\"develop\" + 0.003*\"bank\"\n",
      "\n",
      "\n",
      "Topic: 6 \n",
      "Words: 0.033*\"drive\" + 0.016*\"scsi\" + 0.011*\"disk\" + 0.009*\"hard\" + 0.008*\"control\" + 0.007*\"columbia\" + 0.007*\"washington\" + 0.006*\"uiuc\" + 0.005*\"car\" + 0.004*\"floppi\"\n",
      "\n",
      "\n",
      "Topic: 7 \n",
      "Words: 0.012*\"christian\" + 0.008*\"jesus\" + 0.006*\"exist\" + 0.005*\"word\" + 0.005*\"moral\" + 0.005*\"bibl\" + 0.005*\"religion\" + 0.004*\"life\" + 0.004*\"church\" + 0.004*\"claim\"\n",
      "\n",
      "\n"
     ]
    }
   ],
   "source": [
    "'''\n",
    "For each topic, we will explore the words occuring in that topic and its relative weight\n",
    "'''\n",
    "for idx, topic in lda_model.print_topics(-1):\n",
    "    print(\"Topic: {} \\nWords: {}\".format(idx, topic ))\n",
    "    print(\"\\n\")"
   ]
  },
  {
   "cell_type": "code",
   "execution_count": 21,
   "metadata": {},
   "outputs": [
    {
     "name": "stdout",
     "output_type": "stream",
     "text": [
      "From: banschbach@vms.ocom.okstate.edu\n",
      "Subject: Re: Candida(yeast) Bloom, Fact or Fiction\n",
      "Organization: OSU College of Osteopathic Medicine\n",
      "Lines: 91\n",
      "Nntp-Posting-Host: vms.ocom.okstate.edu\n",
      "\n",
      "In article <1rp8p1$2d3@usenet.INS.CWRU.Edu>, esd3@po.CWRU.Edu (Elisabeth S. Davidson) writes:\n",
      "> \n",
      "> In a previous article, banschbach@vms.ocom.okstate.edu () says:\n",
      ">>least a few \"enlightened\" physicians practicing in the U.S.  It's really \n",
      ">>too bad that most U.S. medical schools don't cover nutrition because if \n",
      ">>they did, candida would not be viewed as a non-disease by so many in the \n",
      ">>medical profession.\n",
      "> \n",
      "> Case Western Reserve Med School teaches nutrition in its own section as\n",
      "> well as covering it in other sections as they apply (i.e. B12\n",
      "> deficiency in neuro as a cause of neuropathy, B12 deficiency in\n",
      "> hematology as a cause of megaloblastic anemia), yet I sill\n",
      "> hold the viewpoint of mainstream medicine:  candida can cause\n",
      "> mucocutaneous candidiasis, and, in already very sick patients\n",
      "> with damaged immune systems like AIDS and cancer patients,\n",
      "> systemic candida infection.  I think \"The Yeast Connection\" is\n",
      "> a bunch of hooey.  What does this have to do with how well\n",
      "> nutrition is taught, anyway?\n",
      "\n",
      "Elisabeth, let's set the record straight for the nth time, I have not read \n",
      "\"The Yeast Connection\".  So anything that I say is not due to brainwashing \n",
      "by this \"hated\" book.  It's okay I guess to hate the book, by why hate me?\n",
      "Elisabeth, I'm going to quote from Zinsser's Microbiology, 20th Edition.\n",
      "A book that you should be familiar with and not \"hate\". \"Candida species \n",
      "colonize the mucosal surfaces of all humans during birth or shortly \n",
      "thereafter.  The risk of endogenous infection is clearly ever present.  \n",
      "Indeed, candidiasis occurs worldwide and is the most common systemic \n",
      "mycosis.\"  Neutrophils play the main role in preventing a systemic \n",
      "infection(candidiasis) so you would have to have a low neutrophil count or \n",
      "\"sick\" neutrophils to see a systemic infection.  Poor diet and persistent \n",
      "parasitic infestation set many third world residents up for candidiasis.\n",
      "Your assessment of candidiasis in the U.S. is correct and I do not dispute \n",
      "it.\n",
      "\n",
      "What I posted was a discussion of candida blooms, without systemic \n",
      "infection.  These blooms would be responsible for local sites of irritation\n",
      "(GI tract, mouth, vagina and sinus cavity).  Knocking down the bacterial \n",
      "competition for candida was proposed as a possible trigger for candida \n",
      "blooms.  Let me quote from Zinsser's again: \"However, some factors, such as \n",
      "the use of a broad-spectrum antibacterial antibiotic, may predispose to \n",
      "both mucosal and systemic infections\".  I was addressing mucosal infections\n",
      "(I like the term blooms better).  The nutrition course that I teach covers \n",
      "this effect of antibiotic treatment as well as the \"cure\".  I guess that \n",
      "your nutrition course does not, too bad.  \n",
      "\n",
      "\n",
      ">>Here is a brief primer on yeast.  Yeast infections, as they are commonly \n",
      ">>called, are not truely caused by yeasts.  The most common organism responsible\n",
      ">>for this type of infection is Candida albicans or Monilia which is actually a \n",
      ">>yeast-like fungus.  \n",
      "> \n",
      "> Well, maybe I'm getting picky, but I always thought that a yeast\n",
      "> was one form that a fungus could exist in, the other being the\n",
      "> mold form.  Many fungi can occur as either yeasts or molds, \n",
      "> depending on environment.  Candida exibits what is known as\n",
      "> reverse dimorphism - it exists as a mold in the tissues\n",
      "> but exists as a yeast in the environment.  Should we maybe\n",
      "> call it a mold infection?  a fungus infection?  Maybe we\n",
      "> should say it is caused by a mold-like fungus.\n",
      ">  \n",
      ">> \n",
      ">>Martin Banschbach, Ph.D.\n",
      ">>Professor of Biochemistry and Chairman\n",
      ">>Department of Biochemistry and Microbiology\n",
      ">>OSU College of Osteopathic Medicine\n",
      ">>1111 West 17th St.\n",
      ">>Tulsa, Ok. 74107\n",
      ">>\n",
      "> \n",
      "> You're the chairman of Biochem and Micro and you didn't know \n",
      "> that a yeast is a form of a fungus?  (shudder)\n",
      "> Or maybe you did know, and were oversimplifying?\n",
      "\n",
      "My, my Elisabeth, do I detect a little of Steve Dyer in you?  If you \n",
      "noticed my faculty rank, I'm a biochemist, not a microbiologist.\n",
      "Candida is classifed as a fungus(according to Zinsser's).  But, as you point \n",
      "out, it displays dimorphism.  It is capable of producing yeast cells, \n",
      "pseudohyphae and true hyphae.  Elisabeth, you are probably a microbiologist \n",
      "and that makes a lot of sense to you.  To a biochemist, it's a lot of \n",
      "Greek.  So I called it a yeast-like fungus, go ahead and crucify me.\n",
      "\n",
      "You know Elisabeth, I still haven't been able to figure out why such a small \n",
      "little organism like Candida can bring out so much hostility in people in \n",
      "Sci. Med.  And I must admitt that I got sucked into the mud slinging too.\n",
      "I keep hoping that if people will just take the time to think about what \n",
      "I've said, that it will make sense.  I'm not asking anyone here to buy into \n",
      "\"The Yeast Connection\" book because I don't know what's in that book, plain \n",
      "and simple. And to be honest with you, I'm beginning to wish that it was never \n",
      "written.\n",
      "\n",
      "Marty B.\n",
      "\n"
     ]
    }
   ],
   "source": [
    "num = 5\n",
    "unseen_document = newsgroups_test.data[num]\n",
    "print(unseen_document)"
   ]
  },
  {
   "cell_type": "code",
   "execution_count": 22,
   "metadata": {},
   "outputs": [
    {
     "name": "stdout",
     "output_type": "stream",
     "text": [
      "Score: 0.6402323842048645\t Topic: 0.012*\"space\" + 0.009*\"nasa\" + 0.006*\"scienc\" + 0.005*\"orbit\" + 0.004*\"research\"\n",
      "Score: 0.13278864324092865\t Topic: 0.012*\"christian\" + 0.008*\"jesus\" + 0.006*\"exist\" + 0.005*\"word\" + 0.005*\"moral\"\n",
      "Score: 0.12538683414459229\t Topic: 0.016*\"game\" + 0.014*\"team\" + 0.011*\"play\" + 0.009*\"hockey\" + 0.008*\"player\"\n",
      "Score: 0.09958665072917938\t Topic: 0.009*\"govern\" + 0.007*\"armenian\" + 0.005*\"israel\" + 0.005*\"kill\" + 0.005*\"isra\"\n"
     ]
    }
   ],
   "source": [
    "# Data preprocessing step for the unseen document\n",
    "bow_vector = dictionary.doc2bow(preprocess(unseen_document))\n",
    "\n",
    "for index, score in sorted(lda_model[bow_vector], key=lambda tup: -1*tup[1]):\n",
    "    print(\"Score: {}\\t Topic: {}\".format(score, lda_model.print_topic(index, 5)))"
   ]
  },
  {
   "cell_type": "code",
   "execution_count": 23,
   "metadata": {},
   "outputs": [
    {
     "name": "stdout",
     "output_type": "stream",
     "text": [
      "13\n"
     ]
    }
   ],
   "source": [
    "print(newsgroups_test.target[num])"
   ]
  },
  {
   "cell_type": "code",
   "execution_count": 24,
   "metadata": {},
   "outputs": [
    {
     "name": "stdout",
     "output_type": "stream",
     "text": [
      "From: ray@unisql.UUCP (Ray Shea)\n",
      "Subject: Re: Ok, So I was a little hasty...\n",
      "Organization: UniSQL, Inc., Austin, Texas, USA\n",
      "Lines: 22\n",
      "\n",
      "In article <speedy.173@engr.latech.edu> speedy@engr.latech.edu (Speedy Mercer) writes:\n",
      ">In article <5295@unisql.UUCP> ray@unisql.UUCP (Ray Shea) writes:\n",
      ">>*Everything* in Louisiana is related to liquor:  eating, sleeping, walking,\n",
      ">>talking, church, state, life, death, and everything in between.\n",
      ">\n",
      ">How DARE you make such an accusation!  \n",
      "\n",
      "Accusation?  I thought it was a recommendation.  (I mean, I did grow up there,\n",
      "I oughta know).\n",
      "\n",
      ">If We wern't so busy unloading the beer truck for the week end, \n",
      ">I might just come up that and have a talk wit you! B->\n",
      "\n",
      "Bring the truck and about 10 pounds of crawfish and we'll talk.\n",
      "\n",
      "\n",
      "\n",
      "-- \n",
      "Ray Shea    \t\t \n",
      "UniSQL, Inc.\t\t \t\n",
      "unisql!ray@cs.utexas.edu \n",
      "DoD #0372 : Team Twinkie : '88 Hawk GT     \n",
      "\n"
     ]
    }
   ],
   "source": [
    "num = 13\n",
    "unseen_document = newsgroups_test.data[num]\n",
    "print(unseen_document)"
   ]
  },
  {
   "cell_type": "code",
   "execution_count": null,
   "metadata": {},
   "outputs": [],
   "source": []
  }
 ],
 "metadata": {
  "kernelspec": {
   "display_name": "Python 3",
   "language": "python",
   "name": "python3"
  },
  "language_info": {
   "codemirror_mode": {
    "name": "ipython",
    "version": 3
   },
   "file_extension": ".py",
   "mimetype": "text/x-python",
   "name": "python",
   "nbconvert_exporter": "python",
   "pygments_lexer": "ipython3",
   "version": "3.7.4"
  }
 },
 "nbformat": 4,
 "nbformat_minor": 2
}

{
 "cells": [
  {
   "cell_type": "code",
   "execution_count": 2,
   "metadata": {},
   "outputs": [
    {
     "data": {
      "text/html": [
       "<!DOCTYPE HTML PUBLIC \"-//W3C//DTD HTML 4.01 Transitional//EN\" \"http://www.w3.org/TR/html4/loose.dtd\">\n",
       "<html>\n",
       "<head>\n",
       "<title>DBpedia Spotlight annotation</title>\n",
       "<meta http-equiv=\"Content-type\" content=\"text/html;charset=UTF-8\">\n",
       "</head>\n",
       "<body>\n",
       "<div>\n",
       "My name is Sundar. I am currently doing Master's in <a href=\"http://dbpedia.org/resource/Artificial_intelligence\" title=\"http://dbpedia.org/resource/Artificial_intelligence\" target=\"_blank\">Artificial Intelligence</a> at <a href=\"http://dbpedia.org/resource/National_University_of_Singapore\" title=\"http://dbpedia.org/resource/National_University_of_Singapore\" target=\"_blank\">NUS</a>. I <a href=\"http://dbpedia.org/resource/Love\" title=\"http://dbpedia.org/resource/Love\" target=\"_blank\">love</a> <a href=\"http://dbpedia.org/resource/Natural-language_processing\" title=\"http://dbpedia.org/resource/Natural-language_processing\" target=\"_blank\">Natural Language Processing</a>.\n",
       "</div>\n",
       "</body>\n",
       "</html>"
      ],
      "text/plain": [
       "<IPython.core.display.HTML object>"
      ]
     },
     "metadata": {},
     "output_type": "display_data"
    }
   ],
   "source": [
    "import requests\n",
    "from IPython.core.display import display, HTML\n",
    "# An API Error Exception\n",
    "class APIError(Exception):\n",
    "    def __init__(self, status):\n",
    "        self.status = status\n",
    "    def __str__(self):\n",
    "        return \"APIError: status={}\".format(self.status)\n",
    "      \n",
    "# Base URL for Spotlight API\n",
    "base_url = \"http://api.dbpedia-spotlight.org/en/annotate\"\n",
    "# Parameters \n",
    "# 'text' - text to be annotated \n",
    "# 'confidence' -   confidence score for linking\n",
    "params = {\"text\": \"My name is Sundar. I am currently doing Master's in Artificial Intelligence at NUS. I love Natural Language Processing.\", \"confidence\": 0.35}\n",
    "# Response content type\n",
    "headers = {'accept': 'text/html'}\n",
    "# GET Request\n",
    "res = requests.get(base_url, params=params, headers=headers)\n",
    "if res.status_code != 200:\n",
    "    # Something went wrong\n",
    "    raise APIError(res.status_code)\n",
    "# Display the result as HTML in Jupyter Notebook\n",
    "display(HTML(res.text))"
   ]
  },
  {
   "cell_type": "code",
   "execution_count": null,
   "metadata": {},
   "outputs": [],
   "source": []
  }
 ],
 "metadata": {
  "kernelspec": {
   "display_name": "Python 3",
   "language": "python",
   "name": "python3"
  },
  "language_info": {
   "codemirror_mode": {
    "name": "ipython",
    "version": 3
   },
   "file_extension": ".py",
   "mimetype": "text/x-python",
   "name": "python",
   "nbconvert_exporter": "python",
   "pygments_lexer": "ipython3",
   "version": "3.7.4"
  }
 },
 "nbformat": 4,
 "nbformat_minor": 2
}
